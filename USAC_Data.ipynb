{
 "cells": [
  {
   "cell_type": "code",
   "execution_count": null,
   "metadata": {},
   "outputs": [],
   "source": [
    "# !pip install upgrade pandas\n",
    "import pandas as pd\n",
    "# !pip install sodapy\n",
    "from sodapy import Socrata\n",
    "# !pip install mapboxgl\n",
    "from mapboxgl.utils import df_to_geojson\n",
    "import requests"
   ]
  },
  {
   "cell_type": "code",
   "execution_count": null,
   "metadata": {},
   "outputs": [],
   "source": [
    "# Unauthenticated client only works with public data sets. Note 'None'\n",
    "# in place of application token, and no username or password:\n",
    "client = Socrata(\"opendata.usac.org\", None)\n",
    "results = client.get(\"9s6i-myen\")\n",
    "\n",
    "# Convert to pandas DataFrame\n",
    "results_df = pd.DataFrame.from_dict(results)"
   ]
  },
  {
   "cell_type": "code",
   "execution_count": null,
   "metadata": {},
   "outputs": [],
   "source": [
    "# filter data to year 2018 and In Window\n",
    "df_filter = results_df.loc[(results_df['funding_year']=='2018')&(results_df['is_certified_in_window']=='In Window')]\n",
    "# select necessary columns\n",
    "df_filter = df_filter[['epc_organization_id','application_number','org_state','funding_year',\n",
    "                       'funding_request_amount','latitude','longitude']]\n",
    "\n",
    "# recast columns since data from api returned as objects\n",
    "df_filter[\"funding_request_amount\"] = df_filter.funding_request_amount.astype(float)\n",
    "df_filter[\"latitude\"] = df_filter.latitude.astype(float)\n",
    "df_filter[\"longitude\"] = df_filter.longitude.astype(float)\n",
    "\n",
    "# applicant level aggregation with # of applications and total funding amt\n",
    "df_app = df_filter.groupby(['epc_organization_id','longitude','latitude'])\\\n",
    "                    .agg({'application_number': 'nunique', 'funding_request_amount': 'sum'})\\\n",
    "                    .reset_index()\n",
    "\n",
    "# state level aggregation with # of applications and total funding amt\n",
    "df_state = df_filter.groupby(['org_state'])\\\n",
    "                    .agg({'application_number': 'nunique', 'funding_request_amount': 'sum'})\\\n",
    "                    .reset_index()\n",
    "df_app"
   ]
  },
  {
   "cell_type": "code",
   "execution_count": null,
   "metadata": {},
   "outputs": [],
   "source": [
    "# Load data from sample csv\n",
    "# Create a geojson Feature Collection from the current dataframe\n",
    "geo_app = df_to_geojson(df_app, filename='app_total.geojson',\n",
    "                        properties=['epc_organization_id','funding_request_amount', 'application_number'], \n",
    "                        lat='latitude', \n",
    "                        lon='longitude', \n",
    "                        precision=5)\n",
    "\n",
    "# download as csv and join state geometry information using QGIS before conversion to geojson\n",
    "df_state.to_csv('state_total.csv')"
   ]
  }
 ],
 "metadata": {
  "kernelspec": {
   "display_name": "Python [conda env:root]",
   "language": "python",
   "name": "conda-root-py"
  },
  "language_info": {
   "codemirror_mode": {
    "name": "ipython",
    "version": 3
   },
   "file_extension": ".py",
   "mimetype": "text/x-python",
   "name": "python",
   "nbconvert_exporter": "python",
   "pygments_lexer": "ipython3",
   "version": "3.7.6"
  }
 },
 "nbformat": 4,
 "nbformat_minor": 4
}
